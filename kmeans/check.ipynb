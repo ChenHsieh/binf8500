{
 "cells": [
  {
   "cell_type": "code",
   "execution_count": 60,
   "source": [
    "import pandas as pd\n",
    "archaea = pd.read_csv(\"./Archaea.txt\", sep='\\t', index_col=0)"
   ],
   "outputs": [],
   "metadata": {}
  },
  {
   "cell_type": "code",
   "execution_count": 6,
   "source": [
    "df = archaea\n",
    "normalized_df=(df-df.mean())/df.std()"
   ],
   "outputs": [],
   "metadata": {}
  },
  {
   "cell_type": "code",
   "execution_count": 37,
   "source": [
    "normalized_df.to_csv(\"./normalized_df.txt\", sep='\\t')\n"
   ],
   "outputs": [],
   "metadata": {}
  },
  {
   "cell_type": "code",
   "execution_count": 61,
   "source": [
    "wcss = 0\n",
    "a= 0\n",
    "b= 0\n",
    "for sn, row in normalized_df.iterrows():\n",
    "    row = row**2\n",
    "    a = row.sum()\n",
    "    wcss += a\n",
    "    a = a **0.5\n",
    "    b += a/len(normalized_df)\n",
    "print(b)\n",
    "print(wcss)"
   ],
   "outputs": [
    {
     "output_type": "stream",
     "name": "stdout",
     "text": [
      "4.292625351931171\n",
      "760.0\n"
     ]
    }
   ],
   "metadata": {}
  },
  {
   "cell_type": "code",
   "execution_count": 58,
   "source": [
    "a = 0\n",
    "for sn, row in normalized_df.iterrows():\n",
    "    row = row**2\n",
    "    a += row.sum()\n",
    "print(a)"
   ],
   "outputs": [
    {
     "output_type": "stream",
     "name": "stdout",
     "text": [
      "760.0\n"
     ]
    }
   ],
   "metadata": {}
  },
  {
   "cell_type": "code",
   "execution_count": null,
   "source": [],
   "outputs": [],
   "metadata": {}
  }
 ],
 "metadata": {
  "orig_nbformat": 4,
  "language_info": {
   "name": "python",
   "version": "3.6.13",
   "mimetype": "text/x-python",
   "codemirror_mode": {
    "name": "ipython",
    "version": 3
   },
   "pygments_lexer": "ipython3",
   "nbconvert_exporter": "python",
   "file_extension": ".py"
  },
  "kernelspec": {
   "name": "python3",
   "display_name": "Python 3.6.13 64-bit ('binf36': conda)"
  },
  "interpreter": {
   "hash": "af2f17ac45dd6289728e7cd82682c235565ab65b833fdfc762b0327d912ca907"
  }
 },
 "nbformat": 4,
 "nbformat_minor": 2
}