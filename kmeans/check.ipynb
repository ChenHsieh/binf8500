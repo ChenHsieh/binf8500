{
 "cells": [
  {
   "cell_type": "code",
   "execution_count": 3,
   "source": [
    "import pandas as pd\n",
    "archaea = pd.read_csv(\"./Archaea.txt\", sep='\\t')"
   ],
   "outputs": [],
   "metadata": {}
  },
  {
   "cell_type": "code",
   "execution_count": 6,
   "source": [
    "df = archaea\n",
    "normalized_df=(df-df.mean())/df.std()"
   ],
   "outputs": [],
   "metadata": {}
  },
  {
   "cell_type": "code",
   "execution_count": 14,
   "source": [
    "normalized_df.to_csv(\"./normalized_df.txt\", sep='\\t')\n"
   ],
   "outputs": [],
   "metadata": {}
  },
  {
   "cell_type": "code",
   "execution_count": 18,
   "source": [
    "normalized_df.R"
   ],
   "outputs": [
    {
     "output_type": "execute_result",
     "data": {
      "text/plain": [
       "0    -1.175733\n",
       "1     0.714194\n",
       "2     0.226471\n",
       "3     0.104540\n",
       "4    -1.533905\n",
       "5     0.607505\n",
       "6     0.470332\n",
       "7    -0.886148\n",
       "8     0.836125\n",
       "9     0.683711\n",
       "10    0.813263\n",
       "11    1.308607\n",
       "12    0.660849\n",
       "13    0.843745\n",
       "14    0.668470\n",
       "15   -0.124080\n",
       "16   -1.137630\n",
       "17   -1.777767\n",
       "18   -0.985216\n",
       "19   -1.076665\n",
       "20   -1.892077\n",
       "21   -1.823491\n",
       "22    1.102848\n",
       "23   -0.695631\n",
       "24   -0.596562\n",
       "25    0.927573\n",
       "26    0.843745\n",
       "27   -0.581321\n",
       "28   -0.878527\n",
       "29    0.980918\n",
       "30   -0.185046\n",
       "31    0.744677\n",
       "32    1.956364\n",
       "33   -0.901389\n",
       "34    0.744677\n",
       "35   -0.078356\n",
       "36   -0.680389\n",
       "37    1.163814\n",
       "38    0.607505\n",
       "Name: R, dtype: float64"
      ]
     },
     "metadata": {},
     "execution_count": 18
    }
   ],
   "metadata": {}
  }
 ],
 "metadata": {
  "orig_nbformat": 4,
  "language_info": {
   "name": "python",
   "version": "3.6.13",
   "mimetype": "text/x-python",
   "codemirror_mode": {
    "name": "ipython",
    "version": 3
   },
   "pygments_lexer": "ipython3",
   "nbconvert_exporter": "python",
   "file_extension": ".py"
  },
  "kernelspec": {
   "name": "python3",
   "display_name": "Python 3.6.13 64-bit ('binf36': conda)"
  },
  "interpreter": {
   "hash": "af2f17ac45dd6289728e7cd82682c235565ab65b833fdfc762b0327d912ca907"
  }
 },
 "nbformat": 4,
 "nbformat_minor": 2
}