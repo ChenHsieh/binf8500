{
 "cells": [
  {
   "cell_type": "code",
   "execution_count": 1,
   "metadata": {},
   "outputs": [
    {
     "name": "stdout",
     "output_type": "stream",
     "text": [
      "50.79070985933456\n"
     ]
    }
   ],
   "source": [
    "from Bio.SeqUtils import GC\n",
    "from Bio import SeqIO\n",
    "\n",
    "\n",
    "\n",
    "for record in SeqIO.parse(\"/Users/bendjamin101001/dev/binf8500/PSSM/ecoK12-MG1655.fasta\", \"fasta\"):\n",
    "    print(GC(record.seq))\n"
   ]
  },
  {
   "cell_type": "code",
   "execution_count": null,
   "metadata": {},
   "outputs": [],
   "source": []
  }
 ],
 "metadata": {
  "interpreter": {
   "hash": "2804603bf0ea5e5f8b4314dac7f9f84e9b1fa6d3fbae06b86eca740dfd9d5412"
  },
  "kernelspec": {
   "display_name": "Python 3.6.13 64-bit ('binf36': conda)",
   "name": "python3"
  },
  "language_info": {
   "codemirror_mode": {
    "name": "ipython",
    "version": 3
   },
   "file_extension": ".py",
   "mimetype": "text/x-python",
   "name": "python",
   "nbconvert_exporter": "python",
   "pygments_lexer": "ipython3",
   "version": "3.6.13"
  },
  "orig_nbformat": 4
 },
 "nbformat": 4,
 "nbformat_minor": 2
}
